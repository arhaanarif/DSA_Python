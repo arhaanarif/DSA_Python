{
 "cells": [
  {
   "cell_type": "code",
   "id": "initial_id",
   "metadata": {
    "collapsed": true,
    "ExecuteTime": {
     "end_time": "2024-10-18T16:48:20.596593Z",
     "start_time": "2024-10-18T16:48:20.579366Z"
    }
   },
   "source": [
    "def number_pyramid(n):\n",
    "    for i in range(1, n + 1):\n",
    "        spaces = ' ' * (n - i)         # Leading spaces to center the numbers\n",
    "        numbers = ' '.join(str(x) for x in range(1, i + 1))  # Numbers from 1 to i\n",
    "        print(spaces + numbers)        # Print the row with spaces and numbers\n",
    "\n",
    "# Example usage\n",
    "number_pyramid(5)\n"
   ],
   "outputs": [
    {
     "name": "stdout",
     "output_type": "stream",
     "text": [
      "    1\n",
      "   1 2\n",
      "  1 2 3\n",
      " 1 2 3 4\n",
      "1 2 3 4 5\n"
     ]
    }
   ],
   "execution_count": 2
  },
  {
   "metadata": {},
   "cell_type": "code",
   "outputs": [],
   "execution_count": null,
   "source": "",
   "id": "375a91cfd09081ab"
  }
 ],
 "metadata": {
  "kernelspec": {
   "display_name": "Python 3",
   "language": "python",
   "name": "python3"
  },
  "language_info": {
   "codemirror_mode": {
    "name": "ipython",
    "version": 2
   },
   "file_extension": ".py",
   "mimetype": "text/x-python",
   "name": "python",
   "nbconvert_exporter": "python",
   "pygments_lexer": "ipython2",
   "version": "2.7.6"
  }
 },
 "nbformat": 4,
 "nbformat_minor": 5
}
