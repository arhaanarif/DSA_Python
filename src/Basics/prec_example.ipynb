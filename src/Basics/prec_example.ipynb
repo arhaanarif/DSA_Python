{
 "cells": [
  {
   "metadata": {},
   "cell_type": "markdown",
   "source": "#### Real Life Example",
   "id": "c503e28b35a47315"
  },
  {
   "cell_type": "code",
   "id": "initial_id",
   "metadata": {
    "collapsed": true,
    "ExecuteTime": {
     "end_time": "2024-10-01T04:55:24.441164Z",
     "start_time": "2024-10-01T04:55:24.419628Z"
    }
   },
   "source": [
    "# create a to-do-list\n",
    "to_do_list=[\"buy groceries\",\"clean the house\",\"pay the bills\"]\n",
    "\n",
    "#adding the task\n",
    "to_do_list.append(\"schedule meeting\")\n",
    "\n",
    "#removing a completed taks\n",
    "to_do_list.remove(\"clean the house\")\n",
    "\n",
    "#checking task if it is in the list\n",
    "if \"pay the bills\" in to_do_list:\n",
    "    print(\"pay it on time\")\n",
    "\n",
    "print(\"to do list remaining\")\n",
    "for task in to_do_list:\n",
    "    print(f\"{task}\")"
   ],
   "outputs": [
    {
     "name": "stdout",
     "output_type": "stream",
     "text": [
      "pay it on time\n",
      "to do list remaining\n",
      "buy groceries\n",
      "pay the bills\n",
      "schedule meeting\n"
     ]
    }
   ],
   "execution_count": 1
  },
  {
   "metadata": {
    "ExecuteTime": {
     "end_time": "2024-10-01T05:38:39.878549Z",
     "start_time": "2024-10-01T05:38:39.853802Z"
    }
   },
   "cell_type": "code",
   "source": [
    "# PASSWORD STRENGTH CHECKER\n",
    "def is_strong_password(password):\n",
    "    if len(password) < 8:\n",
    "        return False\n",
    "    if not any (char.isdigit() for char in password):\n",
    "        return False\n",
    "    if not any (char.islower() for char in password):\n",
    "        return False\n",
    "    if not any (char.isupper() for char in password):\n",
    "        return False\n",
    "    if not any (char in '!@#$%^&*()_+' for char in password):\n",
    "        return False\n",
    "    return True\n",
    "\n",
    "print(is_strong_password(\"wekpsswd\"))\n",
    "print(is_strong_password(\"@2edhAfu890\"))"
   ],
   "id": "e9c040a398106137",
   "outputs": [
    {
     "name": "stdout",
     "output_type": "stream",
     "text": [
      "False\n",
      "True\n"
     ]
    }
   ],
   "execution_count": 3
  },
  {
   "metadata": {
    "ExecuteTime": {
     "end_time": "2024-10-01T05:42:16.728997Z",
     "start_time": "2024-10-01T05:42:04.142874Z"
    }
   },
   "cell_type": "code",
   "source": [
    "#to check for palindrom\n",
    "\n",
    "\n",
    "name=input(\"enter\")\n",
    "if name==name[::-1]:\n",
    "    print(\"plaindrom\")\n",
    "else:\n",
    "    print(\"not plaidrom\")\n"
   ],
   "id": "ba3236faf91fe724",
   "outputs": [
    {
     "name": "stdout",
     "output_type": "stream",
     "text": [
      "plaindrom\n"
     ]
    }
   ],
   "execution_count": 13
  },
  {
   "metadata": {
    "ExecuteTime": {
     "end_time": "2024-10-01T09:22:31.923393Z",
     "start_time": "2024-10-01T09:22:31.909849Z"
    }
   },
   "cell_type": "code",
   "source": [
    "# finding factorial\n",
    "def factorial(n):\n",
    "    if n==0:\n",
    "        return 1\n",
    "    else:\n",
    "        return n*factorial(n-1)\n",
    "factorial(6)"
   ],
   "id": "f4ae668cb8756f5f",
   "outputs": [
    {
     "data": {
      "text/plain": [
       "720"
      ]
     },
     "execution_count": 1,
     "metadata": {},
     "output_type": "execute_result"
    }
   ],
   "execution_count": 1
  },
  {
   "metadata": {},
   "cell_type": "code",
   "outputs": [],
   "execution_count": null,
   "source": [
    "#to count the frequency of the words\n",
    "\n",
    "def count_word_frequency(file_path):\n",
    "    word_count={}\n",
    "    with open(file_path,\"r\") as f:\n",
    "        for line in f:\n",
    "            words=line.split()\n",
    "            for word in words:\n",
    "                word=word.lower().strip()\n",
    "                word_count[word]=word_count.get(word,0)+1\n",
    "    return word_count   \n",
    "\n",
    "\n",
    "file_path=''\n",
    "word_frequency=count_word_frequency(file_path)\n",
    "print(word_frequency)"
   ],
   "id": "11890df07d76e947"
  },
  {
   "metadata": {
    "ExecuteTime": {
     "end_time": "2024-10-01T09:41:40.282117Z",
     "start_time": "2024-10-01T09:41:40.266519Z"
    }
   },
   "cell_type": "code",
   "source": [
    "# normal function\n",
    "# \n",
    "# def even(num):\n",
    "#     if num%2==0:\n",
    "#         return True\n",
    "# even(2)\n",
    "\n",
    "#lambda function\n",
    "even=lambda num:num%2==0\n",
    "print(even(23))\n",
    "\n",
    "\n",
    "addition = lambda x,y,z:x+y+z\n",
    "addition(2,3,4)"
   ],
   "id": "c82e1736ff6fa0d3",
   "outputs": [
    {
     "name": "stdout",
     "output_type": "stream",
     "text": [
      "False\n"
     ]
    },
    {
     "data": {
      "text/plain": [
       "9"
      ]
     },
     "execution_count": 6,
     "metadata": {},
     "output_type": "execute_result"
    }
   ],
   "execution_count": 6
  },
  {
   "metadata": {
    "ExecuteTime": {
     "end_time": "2024-10-01T09:44:09.271121Z",
     "start_time": "2024-10-01T09:44:09.246378Z"
    }
   },
   "cell_type": "code",
   "source": [
    "#map functions\n",
    "numbers=[1,2,3,4,5,6,7,8]\n",
    "list(map(lambda x:x**2,numbers))"
   ],
   "id": "8ac7b3505cc259b1",
   "outputs": [
    {
     "data": {
      "text/plain": [
       "[1, 4, 9, 16, 25, 36, 49, 64]"
      ]
     },
     "execution_count": 7,
     "metadata": {},
     "output_type": "execute_result"
    }
   ],
   "execution_count": 7
  },
  {
   "metadata": {},
   "cell_type": "code",
   "outputs": [],
   "execution_count": null,
   "source": [
    "def max_consecutive_difference(lst):\n",
    "    \n",
    "    for i in lst:\n",
    "        if num not in i:\n",
    "            return False\n",
    "from urllib.request import urlretrieve,urlopen,Request"
   ],
   "id": "c1098ca40dff263"
  },
  {
   "metadata": {
    "ExecuteTime": {
     "end_time": "2024-10-05T18:09:20.891812Z",
     "start_time": "2024-10-05T18:09:18.296361Z"
    }
   },
   "cell_type": "code",
   "source": [
    "def isPalindrome(word):\n",
    "    if word==word[::-1]:\n",
    "        return True\n",
    "    else:\n",
    "        return False\n",
    "    \n",
    "word=input(\"enter\")\n",
    "print(isPalindrome(word))"
   ],
   "id": "9286750e30c2c829",
   "outputs": [
    {
     "name": "stdout",
     "output_type": "stream",
     "text": [
      "False\n"
     ]
    }
   ],
   "execution_count": 2
  },
  {
   "metadata": {
    "ExecuteTime": {
     "end_time": "2024-10-05T18:12:46.571534Z",
     "start_time": "2024-10-05T18:12:46.541989Z"
    }
   },
   "cell_type": "code",
   "source": [
    "x=121\n",
    "if x==x[::-1]:\n",
    "    return True"
   ],
   "id": "b72130f5e1126c81",
   "outputs": [
    {
     "ename": "SyntaxError",
     "evalue": "'return' outside function (3413309887.py, line 3)",
     "output_type": "error",
     "traceback": [
      "\u001B[1;36m  Cell \u001B[1;32mIn[5], line 3\u001B[1;36m\u001B[0m\n\u001B[1;33m    return True\u001B[0m\n\u001B[1;37m    ^\u001B[0m\n\u001B[1;31mSyntaxError\u001B[0m\u001B[1;31m:\u001B[0m 'return' outside function\n"
     ]
    }
   ],
   "execution_count": 5
  },
  {
   "metadata": {},
   "cell_type": "code",
   "outputs": [],
   "execution_count": null,
   "source": "",
   "id": "9a87fb756f6bb4e1"
  }
 ],
 "metadata": {
  "kernelspec": {
   "display_name": "Python 3",
   "language": "python",
   "name": "python3"
  },
  "language_info": {
   "codemirror_mode": {
    "name": "ipython",
    "version": 2
   },
   "file_extension": ".py",
   "mimetype": "text/x-python",
   "name": "python",
   "nbconvert_exporter": "python",
   "pygments_lexer": "ipython2",
   "version": "2.7.6"
  }
 },
 "nbformat": 4,
 "nbformat_minor": 5
}
